{
 "cells": [
  {
   "attachments": {},
   "cell_type": "markdown",
   "metadata": {},
   "source": [
    "### <u>**Loading Modules**</u>"
   ]
  },
  {
   "cell_type": "code",
   "execution_count": 214,
   "metadata": {},
   "outputs": [],
   "source": [
    "import numpy as np\n",
    "import pandas as pd\n",
    "from math import radians, cos, sin, asin, sqrt, exp\n",
    "import random\n",
    "from matplotlib import pyplot as plt\n",
    "import networkx as nx\n",
    "import utm"
   ]
  },
  {
   "attachments": {},
   "cell_type": "markdown",
   "metadata": {},
   "source": [
    "### <u>**Preparing data**</u>"
   ]
  },
  {
   "cell_type": "code",
   "execution_count": 215,
   "metadata": {},
   "outputs": [
    {
     "data": {
      "text/html": [
       "<div>\n",
       "<style scoped>\n",
       "    .dataframe tbody tr th:only-of-type {\n",
       "        vertical-align: middle;\n",
       "    }\n",
       "\n",
       "    .dataframe tbody tr th {\n",
       "        vertical-align: top;\n",
       "    }\n",
       "\n",
       "    .dataframe thead th {\n",
       "        text-align: right;\n",
       "    }\n",
       "</style>\n",
       "<table border=\"1\" class=\"dataframe\">\n",
       "  <thead>\n",
       "    <tr style=\"text-align: right;\">\n",
       "      <th></th>\n",
       "      <th>Locations</th>\n",
       "      <th>Latitude</th>\n",
       "      <th>Longitude</th>\n",
       "    </tr>\n",
       "  </thead>\n",
       "  <tbody>\n",
       "    <tr>\n",
       "      <th>0</th>\n",
       "      <td>Jaipur</td>\n",
       "      <td>26.9124</td>\n",
       "      <td>75.7873</td>\n",
       "    </tr>\n",
       "    <tr>\n",
       "      <th>1</th>\n",
       "      <td>Udaipur</td>\n",
       "      <td>24.5854</td>\n",
       "      <td>73.7125</td>\n",
       "    </tr>\n",
       "    <tr>\n",
       "      <th>2</th>\n",
       "      <td>Jodhpur</td>\n",
       "      <td>26.2389</td>\n",
       "      <td>73.0243</td>\n",
       "    </tr>\n",
       "    <tr>\n",
       "      <th>3</th>\n",
       "      <td>Jaisalmer</td>\n",
       "      <td>26.9157</td>\n",
       "      <td>70.9083</td>\n",
       "    </tr>\n",
       "    <tr>\n",
       "      <th>4</th>\n",
       "      <td>Ajmer</td>\n",
       "      <td>26.4499</td>\n",
       "      <td>74.6399</td>\n",
       "    </tr>\n",
       "    <tr>\n",
       "      <th>5</th>\n",
       "      <td>Mount_Abu</td>\n",
       "      <td>24.5926</td>\n",
       "      <td>72.7156</td>\n",
       "    </tr>\n",
       "    <tr>\n",
       "      <th>6</th>\n",
       "      <td>Bikaner</td>\n",
       "      <td>28.0176</td>\n",
       "      <td>73.3150</td>\n",
       "    </tr>\n",
       "    <tr>\n",
       "      <th>7</th>\n",
       "      <td>Bharatpur</td>\n",
       "      <td>27.2152</td>\n",
       "      <td>77.5030</td>\n",
       "    </tr>\n",
       "    <tr>\n",
       "      <th>8</th>\n",
       "      <td>Chittorgarh</td>\n",
       "      <td>24.8829</td>\n",
       "      <td>74.6230</td>\n",
       "    </tr>\n",
       "    <tr>\n",
       "      <th>9</th>\n",
       "      <td>Bundi</td>\n",
       "      <td>25.4326</td>\n",
       "      <td>75.6483</td>\n",
       "    </tr>\n",
       "    <tr>\n",
       "      <th>10</th>\n",
       "      <td>Kota</td>\n",
       "      <td>25.2138</td>\n",
       "      <td>75.8648</td>\n",
       "    </tr>\n",
       "    <tr>\n",
       "      <th>11</th>\n",
       "      <td>Shekhawati</td>\n",
       "      <td>27.6195</td>\n",
       "      <td>75.1504</td>\n",
       "    </tr>\n",
       "    <tr>\n",
       "      <th>12</th>\n",
       "      <td>Pali</td>\n",
       "      <td>25.7781</td>\n",
       "      <td>73.3311</td>\n",
       "    </tr>\n",
       "    <tr>\n",
       "      <th>13</th>\n",
       "      <td>Sariska_Tiger_Reserve</td>\n",
       "      <td>27.3104</td>\n",
       "      <td>76.4389</td>\n",
       "    </tr>\n",
       "    <tr>\n",
       "      <th>14</th>\n",
       "      <td>Ranthambore_National_Park</td>\n",
       "      <td>26.0173</td>\n",
       "      <td>76.5026</td>\n",
       "    </tr>\n",
       "    <tr>\n",
       "      <th>15</th>\n",
       "      <td>Shakambari_Jheel</td>\n",
       "      <td>26.9261</td>\n",
       "      <td>75.0962</td>\n",
       "    </tr>\n",
       "    <tr>\n",
       "      <th>16</th>\n",
       "      <td>Neemrana</td>\n",
       "      <td>27.9797</td>\n",
       "      <td>76.3962</td>\n",
       "    </tr>\n",
       "    <tr>\n",
       "      <th>17</th>\n",
       "      <td>Bhangarh_Fort</td>\n",
       "      <td>27.0964</td>\n",
       "      <td>76.2862</td>\n",
       "    </tr>\n",
       "    <tr>\n",
       "      <th>18</th>\n",
       "      <td>Ranthambore_Fort</td>\n",
       "      <td>26.0185</td>\n",
       "      <td>76.4557</td>\n",
       "    </tr>\n",
       "    <tr>\n",
       "      <th>19</th>\n",
       "      <td>Dechu</td>\n",
       "      <td>26.7748</td>\n",
       "      <td>72.3304</td>\n",
       "    </tr>\n",
       "  </tbody>\n",
       "</table>\n",
       "</div>"
      ],
      "text/plain": [
       "                    Locations  Latitude  Longitude\n",
       "0                     Jaipur    26.9124    75.7873\n",
       "1                    Udaipur    24.5854    73.7125\n",
       "2                    Jodhpur    26.2389    73.0243\n",
       "3                  Jaisalmer    26.9157    70.9083\n",
       "4                      Ajmer    26.4499    74.6399\n",
       "5                  Mount_Abu    24.5926    72.7156\n",
       "6                    Bikaner    28.0176    73.3150\n",
       "7                  Bharatpur    27.2152    77.5030\n",
       "8                Chittorgarh    24.8829    74.6230\n",
       "9                      Bundi    25.4326    75.6483\n",
       "10                      Kota    25.2138    75.8648\n",
       "11                Shekhawati    27.6195    75.1504\n",
       "12                      Pali    25.7781    73.3311\n",
       "13     Sariska_Tiger_Reserve    27.3104    76.4389\n",
       "14  Ranthambore_National_Park   26.0173    76.5026\n",
       "15          Shakambari_Jheel    26.9261    75.0962\n",
       "16                  Neemrana    27.9797    76.3962\n",
       "17             Bhangarh_Fort    27.0964    76.2862\n",
       "18          Ranthambore_Fort    26.0185    76.4557\n",
       "19                     Dechu    26.7748    72.3304"
      ]
     },
     "execution_count": 215,
     "metadata": {},
     "output_type": "execute_result"
    }
   ],
   "source": [
    "filepath = \"Data/Rajasthan.xlsx\"\n",
    "df = pd.read_excel(filepath)\n",
    "df.rename(columns={\"Unnamed: 0\" : \"Locations\"}, inplace=True)\n",
    "df"
   ]
  },
  {
   "attachments": {},
   "cell_type": "markdown",
   "metadata": {},
   "source": [
    "### <u>**Graph Representation**</u>"
   ]
  },
  {
   "attachments": {},
   "cell_type": "markdown",
   "metadata": {},
   "source": [
    "We used matrix representation. <br>\n",
    "Entry(i,j) = distance b/w node i and node j."
   ]
  },
  {
   "attachments": {},
   "cell_type": "markdown",
   "metadata": {},
   "source": [
    "### <u>**Coding Uitility Functions**</u>"
   ]
  },
  {
   "attachments": {},
   "cell_type": "markdown",
   "metadata": {},
   "source": [
    "**Haversine Formula**: To calculate distance between two locations using their latitude and longitude values. <br>\n",
    "Reference: https://www.geeksforgeeks.org/program-distance-two-points-earth/"
   ]
  },
  {
   "cell_type": "code",
   "execution_count": 216,
   "metadata": {},
   "outputs": [],
   "source": [
    "# Haversine formula\n",
    "def dist_formula(lt1,lg1,lt2,lg2):\n",
    "    lg1 = radians(lg1)\n",
    "    lg2 = radians(lg2)\n",
    "    lt1 = radians(lt1)\n",
    "    lt2 = radians(lt2)\n",
    "    dlg = lg2 - lg1\n",
    "    dlt = lt2 - lt1\n",
    "    a = sin(dlt / 2)**2 + cos(lt1) * cos(lt2) * sin(dlg / 2)**2\n",
    " \n",
    "    c = 2 * asin(sqrt(a))\n",
    "    \n",
    "    # Radius of earth in kilometers. Use 3956 for miles\n",
    "    r = 6371\n",
    "      \n",
    "    # calculate the result\n",
    "    return(c * r)"
   ]
  },
  {
   "cell_type": "code",
   "execution_count": 217,
   "metadata": {},
   "outputs": [],
   "source": [
    "def tour_cost(path, distance_matrix):\n",
    "    dis =0\n",
    "    for i in range(19):\n",
    "        ls = [path[i], path[i+1]]\n",
    "        ls.sort()\n",
    "        dis += distance_matrix[ls[0]][ls[1]]\n",
    "    ls = [path[19], path[0]]\n",
    "    ls.sort()\n",
    "    dis += distance_matrix[ls[0]][ls[1]]\n",
    "    return dis"
   ]
  },
  {
   "attachments": {},
   "cell_type": "markdown",
   "metadata": {},
   "source": [
    "### <u>**Creating Graph**</u>"
   ]
  },
  {
   "cell_type": "code",
   "execution_count": 218,
   "metadata": {},
   "outputs": [],
   "source": [
    "distance_matrix = np.zeros((20,20)) # distace_matrix[i][j] = distance b/w location i and location j\n",
    "for i in range(20):\n",
    "    for j in range(i+1,20):\n",
    "        distance_matrix[i][j]=dist_formula(df.iloc[i,1],df.iloc[i,2],df.iloc[j,1],df.iloc[j,2])\n",
    "        distance_matrix[j][i]=distance_matrix[i][j]"
   ]
  },
  {
   "cell_type": "code",
   "execution_count": 219,
   "metadata": {},
   "outputs": [],
   "source": [
    "G = nx.Graph()\n",
    "pos = {}\n",
    "for i in range(20):\n",
    "    G.add_node(df.iloc[i][0])\n",
    "    x, y, zone, ut = utm.from_latlon(df.iloc[i][1], df.iloc[i][2]) # to convert long, lat to x-y coordinates\n",
    "            # reference: https://gis.stackexchange.com/questions/212723/how-can-i-convert-lon-lat-coordinates-to-x-y\n",
    "    pos[df.iloc[i][0]] = (x,y)"
   ]
  },
  {
   "cell_type": "code",
   "execution_count": 220,
   "metadata": {},
   "outputs": [
    {
     "data": {
      "image/png": "[encoded data removed]",
      "text/plain": [
       "<Figure size 640x480 with 1 Axes>"
      ]
     },
     "metadata": {},
     "output_type": "display_data"
    }
   ],
   "source": [
    "nx.draw(G,pos=pos,with_labels=True, node_color=\"red\", node_size=4, font_size=7)\n",
    "plt.margins(0.15)\n",
    "plt.show()"
   ]
  },
  {
   "attachments": {},
   "cell_type": "markdown",
   "metadata": {},
   "source": [
    "Let's shift Ranthambore_National_Park co-ordinates for visual clarity."
   ]
  },
  {
   "cell_type": "code",
   "execution_count": 221,
   "metadata": {},
   "outputs": [
    {
     "data": {
      "text/plain": [
       "(650365.3495993316, 2878464.704691522)"
      ]
     },
     "execution_count": 221,
     "metadata": {},
     "output_type": "execute_result"
    }
   ],
   "source": [
    "RNPx,RNPy = pos[\"Ranthambore_National_Park\"]\n",
    "RNPx,RNPy"
   ]
  },
  {
   "cell_type": "code",
   "execution_count": 222,
   "metadata": {},
   "outputs": [
    {
     "data": {
      "image/png": "[encoded data removed]",
      "text/plain": [
       "<Figure size 640x480 with 1 Axes>"
      ]
     },
     "metadata": {},
     "output_type": "display_data"
    }
   ],
   "source": [
    "G = nx.Graph()\n",
    "pos = {}\n",
    "for i in range(20):\n",
    "    G.add_node(df.iloc[i][0])\n",
    "    x, y, zone, ut = utm.from_latlon(df.iloc[i][1], df.iloc[i][2]) # to convert long, lat to x-y coordinates\n",
    "            # reference: https://gis.stackexchange.com/questions/212723/how-can-i-convert-lon-lat-coordinates-to-x-y\n",
    "    pos[df.iloc[i][0]] = (x,y)\n",
    "\n",
    "pos[\"Ranthambore_National_Park\"] = (RNPx+29990,RNPy-29990)\n",
    "\n",
    "nx.draw(G,pos=pos,with_labels=True, node_color=\"red\", node_size=4, font_size=7)\n",
    "plt.margins(0.15)\n",
    "plt.show()"
   ]
  },
  {
   "attachments": {},
   "cell_type": "markdown",
   "metadata": {},
   "source": [
    "### <u>**Setting Initial Path Randomly**</u>"
   ]
  },
  {
   "attachments": {},
   "cell_type": "markdown",
   "metadata": {},
   "source": [
    "Total number of nodes/locations: 20"
   ]
  },
  {
   "cell_type": "code",
   "execution_count": 223,
   "metadata": {},
   "outputs": [
    {
     "name": "stdout",
     "output_type": "stream",
     "text": [
      "[11  3  9 14 18  1  2 19  6 13 10  8 12  7  5 17  0 15  4 16]\n"
     ]
    }
   ],
   "source": [
    "path = np.random.permutation(20) # initial solution\n",
    "initial_path = path\n",
    "print(initial_path)"
   ]
  },
  {
   "cell_type": "code",
   "execution_count": 224,
   "metadata": {},
   "outputs": [
    {
     "name": "stdout",
     "output_type": "stream",
     "text": [
      "Initial Cost:  4688.28875354228\n"
     ]
    }
   ],
   "source": [
    "cost = tour_cost(initial_path,distance_matrix=distance_matrix)\n",
    "initial_cost=cost\n",
    "print(\"Initial Cost: \",initial_cost)"
   ]
  },
  {
   "cell_type": "code",
   "execution_count": 225,
   "metadata": {},
   "outputs": [
    {
     "data": {
      "text/plain": [
       "[1, 2, 3, 7, 6, 5, 4, 8, 9]"
      ]
     },
     "execution_count": 225,
     "metadata": {},
     "output_type": "execute_result"
    }
   ],
   "source": [
    "x = [1, 2 , 3 , 4 , 5, 6, 7, 8, 9]\n",
    "x[3:7] = x[3:7][::-1]\n",
    "x"
   ]
  },
  {
   "cell_type": "code",
   "execution_count": 226,
   "metadata": {},
   "outputs": [],
   "source": [
    "two_indices = random.sample(range(20),2)\n",
    "two_indices.sort()\n",
    "next_path = path\n",
    "next_path[two_indices[0]:two_indices[1]+1] = next_path[two_indices[0]:two_indices[1]+1][::-1] # reverse sublist\n",
    "next_cost = tour_cost(next_path,distance_matrix=distance_matrix)\n",
    "dE = cost - next_cost # delta Energy\n",
    "for i in range(10000):\n",
    "    x = 1/(1+exp(-dE/(i+5)))"
   ]
  },
  {
   "cell_type": "code",
   "execution_count": 227,
   "metadata": {},
   "outputs": [
    {
     "name": "stdout",
     "output_type": "stream",
     "text": [
      "Final Cost:  3547.3309389748574\n"
     ]
    }
   ],
   "source": [
    "Tm = 1000\n",
    "iter_max = 10000\n",
    "for i in range(1,iter_max):\n",
    "    two_indices = random.sample(range(20),2)\n",
    "    two_indices.sort()\n",
    "    next_path = path\n",
    "    next_path[two_indices[0]:two_indices[1]+1] = next_path[two_indices[0]:two_indices[1]+1][::-1] # reverse sublist\n",
    "    next_cost = tour_cost(next_path,distance_matrix=distance_matrix)\n",
    "    dE = cost - next_cost # delta Energy\n",
    "    T = Tm/i\n",
    "    try:\n",
    "        pb = 1/(1+exp(-dE/T))\n",
    "    except: \n",
    "        continue\n",
    "    if dE > 0:\n",
    "        path = next_path\n",
    "    else:\n",
    "        #random.random() returns a uniformly distributed pseudo-random floating point number in the range [0, 1).\n",
    "        # This number is less than a given number pb in the range [0,1) with probability pb\n",
    "        if random.random() < pb:\n",
    "            path = next_path\n",
    "    cost = tour_cost(path,distance_matrix=distance_matrix)\n",
    "final_cost = cost\n",
    "print(\"Final Cost: \",final_cost)"
   ]
  }
 ],
 "metadata": {
  "kernelspec": {
   "display_name": "lab3",
   "language": "python",
   "name": "python3"
  },
  "language_info": {
   "codemirror_mode": {
    "name": "ipython",
    "version": 3
   },
   "file_extension": ".py",
   "mimetype": "text/x-python",
   "name": "python",
   "nbconvert_exporter": "python",
   "pygments_lexer": "ipython3",
   "version": "3.10.6"
  },
  "orig_nbformat": 4,
  "vscode": {
   "interpreter": {
    "hash": "6682a6f3ba684a9b46a4338faff1bd493bbd31680980318190bd844a68243bf4"
   }
  }
 },
 "nbformat": 4,
 "nbformat_minor": 2
}
